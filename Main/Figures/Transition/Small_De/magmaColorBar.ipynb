{
 "cells": [
  {
   "cell_type": "code",
   "execution_count": 1,
   "metadata": {},
   "outputs": [
    {
     "name": "stdout",
     "output_type": "stream",
     "text": [
      "Colorbars saved successfully!\n"
     ]
    }
   ],
   "source": [
    "import numpy as np\n",
    "import matplotlib.pyplot as plt\n",
    "from matplotlib.colors import LinearSegmentedColormap\n",
    "from matplotlib.colorbar import ColorbarBase\n",
    "from matplotlib.figure import Figure\n",
    "from matplotlib.backends.backend_pdf import PdfPages\n",
    "\n",
    "def create_magma_colorbar(orientation='horizontal', figsize=(8, 2)):\n",
    "    \"\"\"\n",
    "    Create a figure with the magma colorbar.\n",
    "    \n",
    "    Parameters\n",
    "    ----------\n",
    "    orientation : str\n",
    "        'horizontal' or 'vertical' orientation of the colorbar\n",
    "    figsize : tuple\n",
    "        Figure size in inches (width, height)\n",
    "    \n",
    "    Returns\n",
    "    -------\n",
    "    fig : matplotlib.figure.Figure\n",
    "        Figure containing the colorbar\n",
    "    \"\"\"\n",
    "    # Create figure and axis\n",
    "    fig = Figure(figsize=figsize)\n",
    "    ax = fig.add_axes([0.1, 0.1, 0.8, 0.8])\n",
    "    \n",
    "    # Create colorbar\n",
    "    norm = plt.Normalize(vmin=0, vmax=1)\n",
    "    cb = ColorbarBase(ax, cmap=plt.cm.magma,\n",
    "                     norm=norm,\n",
    "                     orientation=orientation)\n",
    "    \n",
    "    # Remove ticks for a cleaner look\n",
    "    if orientation == 'horizontal':\n",
    "        ax.set_xticks([])\n",
    "    else:\n",
    "        ax.set_yticks([])\n",
    "    \n",
    "    return fig\n",
    "\n",
    "def save_colorbar(filename='magma_colorbar.pdf', orientation='horizontal'):\n",
    "    \"\"\"\n",
    "    Save the magma colorbar to a PDF file.\n",
    "    \n",
    "    Parameters\n",
    "    ----------\n",
    "    filename : str\n",
    "        Output filename (must end in .pdf)\n",
    "    orientation : str\n",
    "        'horizontal' or 'vertical' orientation of the colorbar\n",
    "    \"\"\"\n",
    "    # Adjust figure size based on orientation\n",
    "    if orientation == 'horizontal':\n",
    "        figsize = (8, 2)\n",
    "    else:\n",
    "        figsize = (2, 8)\n",
    "    \n",
    "    # Create the figure\n",
    "    fig = create_magma_colorbar(orientation, figsize)\n",
    "    \n",
    "    # Save to PDF\n",
    "    with PdfPages(filename) as pdf:\n",
    "        pdf.savefig(fig)\n",
    "\n",
    "if __name__ == \"__main__\":\n",
    "    # Save both horizontal and vertical colorbars\n",
    "    save_colorbar('magma_colorbar_horizontal.pdf', 'horizontal')\n",
    "    save_colorbar('magma_colorbar_vertical.pdf', 'vertical')\n",
    "    \n",
    "    print(\"Colorbars saved successfully!\")"
   ]
  },
  {
   "cell_type": "code",
   "execution_count": null,
   "metadata": {},
   "outputs": [],
   "source": []
  }
 ],
 "metadata": {
  "kernelspec": {
   "display_name": "base",
   "language": "python",
   "name": "python3"
  },
  "language_info": {
   "codemirror_mode": {
    "name": "ipython",
    "version": 3
   },
   "file_extension": ".py",
   "mimetype": "text/x-python",
   "name": "python",
   "nbconvert_exporter": "python",
   "pygments_lexer": "ipython3",
   "version": "3.11.7"
  }
 },
 "nbformat": 4,
 "nbformat_minor": 2
}
